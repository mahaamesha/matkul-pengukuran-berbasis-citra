{
 "cells": [
  {
   "cell_type": "markdown",
   "metadata": {},
   "source": [
    "# Midtest\n",
    "\n",
    "```\n",
    "Start   : Thursday, 2 March 2023 at 14.30 WIB\n",
    "End     : Saturday, 4 March 2023 at 23.00 WIB\n",
    "```"
   ]
  },
  {
   "cell_type": "markdown",
   "metadata": {},
   "source": [
    "### Question 1\n",
    "\n",
    "<img width=\"60%\" src=\"./img/question_01.png\"></img>\n",
    "\n",
    "**Answer:**"
   ]
  },
  {
   "cell_type": "markdown",
   "metadata": {},
   "source": [
    "### Question 2\n",
    "\n",
    "<img width=\"49%\" src=\"./img/question_02a.png\"></img>\n",
    "<img width=\"49%\" src=\"./img/question_02b.png\"></img>\n",
    "<img width=\"49%\" src=\"./img/question_02c.png\"></img>\n",
    "\n",
    "**Answer:**"
   ]
  },
  {
   "cell_type": "markdown",
   "metadata": {},
   "source": [
    "### Question 3\n",
    "\n",
    "<img width=\"60%\" src=\"./img/question_03.png\"></img>\n",
    "\n",
    "**Answer:**"
   ]
  },
  {
   "cell_type": "markdown",
   "metadata": {},
   "source": [
    "### Question 4\n",
    "\n",
    "<img width=\"60%\" src=\"./img/question_04.png\"></img>\n",
    "\n",
    "**Answer:**"
   ]
  },
  {
   "cell_type": "markdown",
   "metadata": {},
   "source": [
    "### Question 5\n",
    "\n",
    "<img width=\"60%\" src=\"./img/question_05a.png\"></img> \\\n",
    "<img width=\"60%\" src=\"./img/question_05b.png\"></img>\n",
    "\n",
    "**Answer:**"
   ]
  }
 ],
 "metadata": {
  "kernelspec": {
   "display_name": "Python 3.10.10 64-bit",
   "language": "python",
   "name": "python3"
  },
  "language_info": {
   "name": "python",
   "version": "3.10.10"
  },
  "orig_nbformat": 4,
  "vscode": {
   "interpreter": {
    "hash": "f2ccb58c476f33ba3e3aee7ac07234ef6b8217ef24ad64d2a7d4fed1a57c1cd2"
   }
  }
 },
 "nbformat": 4,
 "nbformat_minor": 2
}
