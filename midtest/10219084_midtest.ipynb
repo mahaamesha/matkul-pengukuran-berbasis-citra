{
 "cells": [
  {
   "cell_type": "markdown",
   "metadata": {},
   "source": [
    "# Midtest\n",
    "\n",
    "```\n",
    "Start   : Thursday, 2 March 2023 at 14.30 WIB\n",
    "End     : Saturday, 4 March 2023 at 23.00 WIB\n",
    "```"
   ]
  },
  {
   "cell_type": "markdown",
   "metadata": {},
   "source": [
    "### Question 1\n",
    "\n",
    "<img width=\"60%\" src=\"./img/question_01.png\"></img>\n",
    "\n",
    "**Answer:**"
   ]
  },
  {
   "cell_type": "markdown",
   "metadata": {},
   "source": [
    "**a. Kasus jika CFA dihilangkan**\n",
    "\n",
    "Jika komponen CFA dihilangkan, maka sensor kamera hanya akan menerima cahaya secara keseluruhan tanpa pemisahan warna. Maka kamera tersebut hanya akan mampu menghasilkan gambar monokrom atau hitam-putih saja.\n",
    "\n",
    "**b.\tFungsi CFA**\n",
    "\n",
    "CFA adalah komponen penting dalam sensor kamera digital yang berfungsi untuk memisahkan cahaya yang masuk ke sensor menjadi warna merah, hijau, dan biru (RGB). Dengan adanya CFA, smartphone dapat menampilkan citra berwarna yang akurat.\n",
    "\n",
    "**c.\tFungsi microlens pada sistem optical imaging**\n",
    "\n",
    "Microlens adalah lensa kecil yang ditempatkan di atas setiap elemen piksel pada sensor gambar (image sensor) pada sistem optical imaging. Fungsi utama dari microlens adalah untuk meningkatkan sensitivitas cahaya dan meningkatkan efisiensi pengumpulan cahaya dari objek yang difoto.\n",
    "\n",
    "**d.\tPerbedaan zoom secara digital dan optical**\n",
    "\n",
    "Perbedaan mendasar antara metode zoom secara digital dan optical pada kamera smartphone adalah pada cara mereka memperbesar objek yang menjadi pengamatan. Dalam prinsipnya, zoom secara digital menggunakan pengolahan citra untuk memotong dan memperbesar citra, sedangkan zoom secara optical menggunakan lensa tambahan untuk mengubah magnifikasi citra."
   ]
  },
  {
   "cell_type": "markdown",
   "metadata": {},
   "source": [
    "### Question 2\n",
    "\n",
    "<img width=\"49%\" src=\"./img/question_02a.png\"></img>\n",
    "<img width=\"49%\" src=\"./img/question_02b.png\"></img>\n",
    "<img width=\"49%\" src=\"./img/question_02c.png\"></img>\n",
    "\n",
    "**Answer:**"
   ]
  },
  {
   "cell_type": "markdown",
   "metadata": {},
   "source": [
    "**a.\tRepresentasi setiap PSF**\n",
    "\n",
    "[`no02_psf_10.jpg`](./img/no02_psf_10.jpg)\\\n",
    "<img width=\"80%\" src=\"./img/no02_psf_10.jpg\"></img>\n",
    "\n",
    "[`no02_psf_20.jpg`](./img/no02_psf_20.jpg)\\\n",
    "<img width=\"80%\" src=\"./img/no02_psf_20.jpg\"></img>\n",
    "\n",
    "[`no02_psf_30.jpg`](./img/no02_psf_30.jpg)\\\n",
    "<img width=\"80%\" src=\"./img/no02_psf_30.jpg\"></img>\n",
    "\n",
    "[`no02_psf_40.jpg`](./img/no02_psf_40.jpg)\\\n",
    "<img width=\"80%\" src=\"./img/no02_psf_40.jpg\"></img>"
   ]
  },
  {
   "cell_type": "markdown",
   "metadata": {},
   "source": [
    "**b.\tRepresentasi OTF dari setiap variasi PSF dalam mapping 2D untuk setiap komponen real dan imajiner**\n",
    "\n",
    "[`no02_otf_real_imag_10.jpg`](./img/no02_otf_real_imag_10.jpg)\\\n",
    "<img width=\"100%\" src=\"./img/no02_otf_real_imag_10.jpg\"></img>\n",
    "\n",
    "[`no02_otf_real_imag_20.jpg`](./img/no02_otf_real_imag_20.jpg)\\\n",
    "<img width=\"100%\" src=\"./img/no02_otf_real_imag_20.jpg\"></img>\n",
    "\n",
    "[`no02_otf_real_imag_30.jpg`](./img/no02_otf_real_imag_30.jpg)\\\n",
    "<img width=\"100%\" src=\"./img/no02_otf_real_imag_30.jpg\"></img>\n",
    "\n",
    "[`no02_otf_real_imag_40.jpg`](./img/no02_otf_real_imag_40.jpg)\\\n",
    "<img width=\"100%\" src=\"./img/no02_otf_real_imag_40.jpg\"></img>"
   ]
  },
  {
   "cell_type": "markdown",
   "metadata": {},
   "source": [
    "**c.\tRepresentasi MTF dari setiap variasi PSF dalam mapping 3D dan juga plot log power terhadap center frekuensi spasial x**\n",
    "\n",
    "[`no02_mtf_10.jpg`](./img/no02_mtf_10.jpg) | \n",
    "[`no02_mtf_logpower_10.jpg`](./img/no02_mtf_logpower_10.jpg)\\\n",
    "<img width=\"49%\" src=\"./img/no02_mtf_10.jpg\"></img>\n",
    "<img width=\"49%\" src=\"./img/no02_mtf_logpower_10.jpg\"></img>\n",
    "\n",
    "[`no02_mtf_20.jpg`](./img/no02_mtf_20.jpg) | \n",
    "[`no02_mtf_logpower_20.jpg`](./img/no02_mtf_logpower_20.jpg)\\\n",
    "<img width=\"49%\" src=\"./img/no02_mtf_20.jpg\"></img>\n",
    "<img width=\"49%\" src=\"./img/no02_mtf_logpower_20.jpg\"></img>\n",
    "\n",
    "[`no02_mtf_30.jpg`](./img/no02_mtf_30.jpg) | \n",
    "[`no02_mtf_logpower_30.jpg`](./img/no02_mtf_logpower_30.jpg)\\\n",
    "<img width=\"49%\" src=\"./img/no02_mtf_30.jpg\"></img>\n",
    "<img width=\"49%\" src=\"./img/no02_mtf_logpower_30.jpg\"></img>\n",
    "\n",
    "[`no02_mtf_40.jpg`](./img/no02_mtf_40.jpg) | \n",
    "[`no02_mtf_logpower_40.jpg`](./img/no02_mtf_logpower_40.jpg)\\\n",
    "<img width=\"49%\" src=\"./img/no02_mtf_40.jpg\"></img>\n",
    "<img width=\"49%\" src=\"./img/no02_mtf_logpower_40.jpg\"></img>\n",
    "\n",
    "[`no02_mtf_logpower_10203040.jpg`](./img/no02_mtf_logpower_10203040.jpg)\\\n",
    "<img width=\"80%\" src=\"./img/no02_mtf_logpower_10203040.jpg\"></img>\n",
    "\n",
    "Transformasi Fourier dari PSF memberi kita OTF. OTF mewakili fungsi amplitudo dan transfer fase sistem, dan mencirikan kemampuan sistem optik untuk mentransfer informasi frekuensi spasial dari suatu objek ke gambar.\n",
    "\n",
    "MTF, di sisi lain, adalah nilai absolut dari transformasi Fourier dari LSF, yang merupakan proyeksi PSF ke sumbu tunggal. MTF mewakili kemampuan sistem pencitraan untuk mentransfer kontras pada frekuensi spasial yang berbeda dari objek ke gambar. MTF sering digunakan untuk mengevaluasi ketajaman dan kontras gambar, dan merupakan ukuran yang berguna dari tingkat keburaman dalam suatu gambar."
   ]
  },
  {
   "cell_type": "markdown",
   "metadata": {},
   "source": [
    "### Question 3\n",
    "\n",
    "<img width=\"60%\" src=\"./img/question_03.png\"></img>\n",
    "\n",
    "**Answer:**"
   ]
  },
  {
   "cell_type": "markdown",
   "metadata": {},
   "source": [
    "Diberikan citra asal dengan suatu noise.\n",
    "\n",
    "[no03_im_grayscale.png](./img/no03_im_grayscale.png) |\n",
    "[no03_im_roi.png](./img/no03_im_roi.png)\\\n",
    "<img width=\"49%\" src=\"./img/no03_im_grayscale.png\"></img>\n",
    "<img width=\"49%\" src=\"./img/no03_im_roi.png\"></img>\n",
    "\n",
    "Berikut ini adalah ROI-A (merah) dan ROI-B (hijau) yang digunakan sebagai dasar untuk menghitung SNR.\n",
    "$$ \n",
    "    SNR = \\frac{ variance(ROI_A ) }{ variance(ROI_B) }\n",
    "$$\n",
    "\n",
    "\n",
    "**a.\tFilter gaussian dengan ukuran matriks kernel 5x5**\n",
    "\n",
    "[no03_im_gaussian.png](./img/no03_im_gaussian.png)\\\n",
    "<img width=\"49%\" src=\"./img/no03_im_gaussian.png\"></img>\n",
    "\n",
    "**b.\tFilter mean dengan ukuran matriks kernel 5x5**\n",
    "\n",
    "[no03_im_mean.png](./img/no03_im_mean.png)\\\n",
    "<img width=\"49%\" src=\"./img/no03_im_mean.png\"></img>\n",
    "\n",
    "**c.\tFilter median dengan ukuran matriks kernel 5x5**\n",
    "\n",
    "[no03_im_median.png](./img/no03_im_median.png)\\\n",
    "<img width=\"49%\" src=\"./img/no03_im_median.png\"></img>\n",
    "\n",
    "**d.\tMetode dan parameter filter agar memberikan hasil terbaik**\n",
    "\n",
    "|No | Keterangan Citra | SNR\n",
    "|:-:|:-|:-:\n",
    "|1. | Citra asal    | 0.233\n",
    "|2.\t| Hasil filter gaussian 5x5 | 1.477\n",
    "|3.\t| Hasil filter mean 5x5\t    | 2.624\n",
    "|4.\t| Hasil filter median 5x5\t| Inf\n",
    "\n",
    "**e.\tJenis filter citra dalam domain frekuensi spasial**\n",
    "\n",
    "Median filter. Sebab, transisi sinyal dari citra asal ke noise maupun sebaliknya akan memberikan sinyal bertransisi antara dua nilai ekstrem (minimum dan maksimum). Oleh karena itu, sinyal median adalah sinyal yang paling mendekati sinyal citra asal sehingga bekerja bagus untuk menghilangkan noise tanpa menghilangkan informasi citra asal."
   ]
  },
  {
   "cell_type": "markdown",
   "metadata": {},
   "source": [
    "### Question 4\n",
    "\n",
    "<img width=\"60%\" src=\"./img/question_04.png\"></img>\n",
    "\n",
    "**Answer:**"
   ]
  },
  {
   "cell_type": "markdown",
   "metadata": {},
   "source": [
    "Citra masukan\n",
    "\n",
    "[`pos1.jpg`](./img/pos1.jpg) |\n",
    "[`pos2.jpg`](./img/pos2.jpg)\\\n",
    "<img width=\"49%\" src=\"./img/pos1.jpg\">\n",
    "<img width=\"49%\" src=\"./img/pos2.jpg\">\n",
    "\n",
    "Dasar algoritme yang dilakukan adalah:\n",
    "1.\tMembaca citra\n",
    "2.\tResize\n",
    "3.\tConvert ke ruang warna HSV\n",
    "4.\tMelakukan noise reduction dengan filter gaussian\n",
    "5.\tDeteksi warna\n",
    "6.\tMelakukan operasi morfologi untuk menghilangkan noise kecil dan menutup lubang masking\n",
    "7.\tDeteksi tepi canny\n",
    "8.\tDeteksi kontur\n",
    "9.\tDeteksi centroid kontur\n",
    "\n",
    "Citra keluaran\n",
    "\n",
    "[`no04_im_pos1.png`](./img/no04_im_pos1.png) |\n",
    "[`no04_im_pos2.png`](./img/no04_im_pos2.png)\\\n",
    "<img width=\"49%\" src=\"./img/no04_im_pos1.png\">\n",
    "<img width=\"49%\" src=\"./img/no04_im_pos2.png\">\n",
    "\n",
    "citra final\n",
    "\n",
    "[`no04_im_final.png`](./img/no04_im_final.png)\\\n",
    "<img width=\"49%\" src=\"./img/no04_im_final.png\">"
   ]
  },
  {
   "cell_type": "markdown",
   "metadata": {},
   "source": [
    "### Question 5\n",
    "\n",
    "<img width=\"60%\" src=\"./img/question_05a.png\"></img> \\\n",
    "<img width=\"60%\" src=\"./img/question_05b.png\"></img>\n",
    "\n",
    "**Answer:**"
   ]
  },
  {
   "cell_type": "markdown",
   "metadata": {},
   "source": [
    "Histogram dari citra asal\n",
    "\n",
    "[`no05_original.png`](./img/no05_original.png)\\\n",
    "<img width=\"80%\" src=\"./img/no05_original.png\"></img>\n",
    "\n",
    "**a.\tRestorasi citra dengan variasi PSF menggunakan filter wiener**\n",
    "\n",
    "Algoritme dasar untuk restorasi citra menggunakan filter wiener:\n",
    "1.\tKonvolusi gambar buram dengan PSF untuk mensimulasikan blur;\n",
    "2.\tHitung transformasi fourier dari PSF dan gambar buram;\n",
    "3.\tHitung spektrum daya PSF dan gambar buram;\n",
    "4.\tHitung fungsi transfer wiener (WTF);\n",
    "5.\tPeroleh transformasi fourier dari WTF;\n",
    "6.\tKalikan transformasi fourier dari gambar buram dengan transformasi fourier dari WTF;\n",
    "7.\tHitung transformasi fourier terbalik dari produk yang diperoleh pada langkah 6 untuk mendapatkan gambar yang dipulihkan.\n",
    "\n",
    "Perolehan restorasi citra\n",
    "\n",
    "[`no05_gaussian%20(ksize%3D7%2C%20sigma%3D11).png`](./img/no05_gaussian%20(ksize%3D7%2C%20sigma%3D11).png)\\\n",
    "<img width=\"80%\" src=\"./img/no05_gaussian%20(ksize%3D7%2C%20sigma%3D11).png\"></img>\n",
    "\n",
    "[`no05_gaussian%20(ksize%3D13%2C%20sigma%3D21).png`](./img/no05_gaussian%20(ksize%3D13%2C%20sigma%3D21).png)\\\n",
    "<img width=\"80%\" src=\"./img/no05_gaussian%20(ksize%3D13%2C%20sigma%3D21).png\"></img>\n",
    "\n",
    "[`no05_motion%20(len%3D21%2C%20angle%3D11).png`](./img/no05_motion%20(len%3D21%2C%20angle%3D11).png)\\\n",
    "<img width=\"80%\" src=\"./img/no05_motion%20(len%3D21%2C%20angle%3D11).png\"></img>\n",
    "\n",
    "[`no05_motion%20(len%3D31%2C%20angle%3D21).png`](./img/no05_motion%20(len%3D31%2C%20angle%3D21).png)\\\n",
    "<img width=\"80%\" src=\"./img/no05_motion%20(len%3D31%2C%20angle%3D21).png\"></img>\n"
   ]
  },
  {
   "cell_type": "markdown",
   "metadata": {},
   "source": [
    "\n",
    "**b.\tHasil restorasi terbaik dan metode evaluasi**\n",
    "\n",
    "Hasil restorasi terbaik adalah yang memiliki nilai MSE terendah, nilai PSNR tertinggi, dan nilai SSIM tertinggi.\n",
    "\n",
    "[`compare_hist.png`](./img/compare_hist.png)\\\n",
    "<img width=\"50%\" src=\"./img/compare_hist.png\">\n",
    "\n",
    "\n",
    "|\t|gaussian (ksize=7, sigma=11)\t|gaussian (ksize=13, sigma=21)\t|motion (len=21, angle=11)\t|motion (len=31, angle=21)\n",
    "|:-|:-:|:-:|:-:|:-:|\n",
    "|mse\t|2517.02\t|8677.87\t|6531.93\t|22627.464\n",
    "|psnr\t|14.122\t|8.747\t|9.980\t|4.584\n",
    "|ssim\t|0.756\t|0.462\t|0.539\t|0.243\n",
    "|correlation\t|0.638\t|0.409\t|0.477\t|0.109\n",
    "|chisquare\t|1.056 \t|1.136\t|1.135\t|1.776\n",
    "|intersection\t|0.686\t|0.615\t|0.628\t|0.579\n",
    "|bhattacharyya\t|0.270\t|0.318\t|0.308\t|0.346\n",
    "\n",
    "\n",
    "- PSF gaussian dengan ukuran kernel 7×7 dengan σ=11 memberikan hasil terbaik.\n",
    "- Jenis PSF gaussian memberikan kualitas citra hasil restorasi yang lebih baik daripada PSF motion;\n",
    "- Ukuran kernel yang lebih kecil menghasilkan kualitas yang lebih baik."
   ]
  }
 ],
 "metadata": {
  "kernelspec": {
   "display_name": "Python 3.10.10 64-bit",
   "language": "python",
   "name": "python3"
  },
  "language_info": {
   "name": "python",
   "version": "3.10.10"
  },
  "orig_nbformat": 4,
  "vscode": {
   "interpreter": {
    "hash": "f2ccb58c476f33ba3e3aee7ac07234ef6b8217ef24ad64d2a7d4fed1a57c1cd2"
   }
  }
 },
 "nbformat": 4,
 "nbformat_minor": 2
}
