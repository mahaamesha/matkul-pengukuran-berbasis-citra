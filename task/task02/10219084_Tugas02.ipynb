{
 "cells": [
  {
   "cell_type": "markdown",
   "metadata": {},
   "source": [
    "# Tugas 2\n",
    "Nama : Avima Haamesha\\\n",
    "NIM  : 10219084"
   ]
  },
  {
   "cell_type": "markdown",
   "metadata": {},
   "source": [
    "### Bagian 1\n",
    "\n",
    "Lakukan percobaan sederhana untuk mengukur perubahan jarak dengan memanfaatkan operasi sederhana yang telah dijelaskan!\n",
    "\n",
    "**Note:** Lakukan pencitraan dari suatu objek pada dua posisi berbeda. Gunakan objek lain sebagai referensi. Objek referensi ini harus diketahui dimensinya."
   ]
  },
  {
   "cell_type": "markdown",
   "metadata": {},
   "source": [
    "**Jawaban:**\n",
    "\n",
    "Berikut ini adalah 2 gambar yang menjadi input program.\n",
    "\n",
    "<img src='./img/pos1.jpg' width=49%></img>\n",
    "<img src='./img/pos2.jpg' width=49%></img>\n",
    "\n",
    "Berikut ini adalah gambar hasil keluaran program.\n",
    "\n",
    "<img src='./img/im_pos1.jpg' width=49%></img>\n",
    "<img src='./img/im_pos2.jpg' width=49%></img>\n",
    "\n",
    "Kedua gambar tersebut kemudian di-blending sehingga diperoleh gambar berikut.\n",
    "\n",
    "<img src='./img/im_final.jpg' width=49%></img>\n",
    "\n",
    "Program terlampir dengan namafile [`10219084_no1.py`](./10219084_no01.py)."
   ]
  },
  {
   "cell_type": "markdown",
   "metadata": {},
   "source": [
    "### Bagian 2\n",
    "\n",
    "Lakukan percobaan sederhana untuk mengestimasi secara kasar **luas** dan **keliling** suatu benda dalam **satuan piksel** dengan labgkah-langkah berikut:\n",
    "1. Siapkan suatu benda yang memiliki warna kontras dengan latar belakang.\n",
    "2. Lakukan pengukuran pada malam hari sehingga muncul derau bintik-bintik.\n",
    "3. Lakukan filtering untuk mengurangi efek dari derau dengan tiga ukuran window (kernel) dan 2 jenis filter. Lakukan analisis terkait hasil yang diperoleh.\n",
    "4. Untuk mengukur luas dan keliling, lakukan *thresholding* dan/atau *edge detection*."
   ]
  },
  {
   "cell_type": "markdown",
   "metadata": {},
   "source": [
    "**Jawaban:**\n",
    "\n",
    "Gambar masukan\n",
    "\n",
    "<img src='./img/DSC_2705.jpg'></img>\n",
    "\n",
    "\n",
    "Gambar keluaran\n",
    "\n",
    "median_5x5\\\n",
    "area=37290px^2, perimeter=790px\\\n",
    "<img src='./img/median_5x5.jpg'></img>\n",
    "\n",
    "median_51x51\\\n",
    "area=37011px^2, perimeter=787px\\\n",
    "<img src='./img/median_51x51.jpg'></img>\n",
    "\n",
    "median_111x111\\\n",
    "area=37019px^2, perimeter=787px\\\n",
    "<img src='./img/median_111x111.jpg'></img>\n",
    "\n",
    "gaussian_5x5\\\n",
    "area=37290px^2, perimeter=790px\\\n",
    "<img src='./img/gaussian_5x5.jpg'></img>\n",
    "\n",
    "gaussian_51x51\\\n",
    "area=37410px^2, perimeter=791px\\\n",
    "<img src='./img/gaussian_51x51.jpg'></img>\n",
    "\n",
    "gaussian_111x111\\\n",
    "area=37410px^2, perimeter=791px\\\n",
    "<img src='./img/gaussian_111x111.jpg'></img>\n",
    "\n",
    "Analisis:\n",
    "- Filter Gaussian lebih baik digunakan untuk menghilangkan noise salt & pepper.\n",
    "- Ukuran kernel yang efektif adalah yang tidak terlalu besar dan tidak terlalu kecil. Dalam perolehan ini, ukuran kernel yang terbaik adalah 51x51.\n",
    "\n",
    "Program terlampir dengan namafile [`10219084_no2.py`](./10219084_no02.py).\n",
    "Gambar keluaran ada di folder [`img/`](./img)"
   ]
  }
 ],
 "metadata": {
  "kernelspec": {
   "display_name": "Python 3.9.10 64-bit",
   "language": "python",
   "name": "python3"
  },
  "language_info": {
   "codemirror_mode": {
    "name": "ipython",
    "version": 3
   },
   "file_extension": ".py",
   "mimetype": "text/x-python",
   "name": "python",
   "nbconvert_exporter": "python",
   "pygments_lexer": "ipython3",
   "version": "3.9.10"
  },
  "orig_nbformat": 4,
  "vscode": {
   "interpreter": {
    "hash": "e31aef8222fb7c235d2ed8e74ce17e973738f89b37261e7466b7a63a6dfb1214"
   }
  }
 },
 "nbformat": 4,
 "nbformat_minor": 2
}
